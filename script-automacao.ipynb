{
 "cells": [
  {
   "cell_type": "markdown",
   "id": "3b1588e8",
   "metadata": {},
   "source": [
    "### Controle de Solicitação, Compra e Recebimento\n",
    "#### - Frequência: de Segunda à Sexta-feira"
   ]
  },
  {
   "cell_type": "code",
   "execution_count": 7,
   "id": "fb558318",
   "metadata": {},
   "outputs": [],
   "source": [
    "import win32com.client\n",
    "import datetime\n",
    "import time\n",
    "import sys\n",
    "from dateutil.relativedelta import relativedelta\n",
    "\n",
    "hoje = datetime.datetime.now()\n",
    "ano = hoje.year\n",
    "mes = hoje.month\n",
    "dia = hoje.day\n",
    "hora = hoje.hour\n",
    "minuto = hoje.minute\n",
    "\n",
    "xlapp = win32com.client.DispatchEx(\"Excel.Application\")\n",
    "xlapp.Visible = 0\n",
    "wb = xlapp.workbooks.open(\"C:\\\\Users\\\\carlos.junior\\\\Desktop\\\\Dashboards\\\\Controle solicitacao-compra-recebimento.lnk\")\n",
    "wb.RefreshAll()\n",
    "xlapp.CalculateUntilAsyncQueriesDone()\n",
    "xlapp.Application.Run(\"ultimaAtualizacao\")\n",
    "wb.Save()\n",
    "wb.Close()\n",
    "xlapp.Quit()"
   ]
  }
 ],
 "metadata": {
  "kernelspec": {
   "display_name": "Python 3 (ipykernel)",
   "language": "python",
   "name": "python3"
  },
  "language_info": {
   "codemirror_mode": {
    "name": "ipython",
    "version": 3
   },
   "file_extension": ".py",
   "mimetype": "text/x-python",
   "name": "python",
   "nbconvert_exporter": "python",
   "pygments_lexer": "ipython3",
   "version": "3.9.7"
  }
 },
 "nbformat": 4,
 "nbformat_minor": 5
}
